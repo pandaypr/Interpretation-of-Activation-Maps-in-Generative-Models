{
 "cells": [
  {
   "cell_type": "code",
   "execution_count": 284,
   "id": "35b194c3",
   "metadata": {},
   "outputs": [],
   "source": [
    "import sys\n",
    "import os\n",
    "import numpy as np\n",
    "import cv2\n",
    "import tensorflow as tf\n",
    "import matplotlib \n",
    "from tensorflow.keras import backend as K\n",
    "from tensorflow.keras.preprocessing import image\n",
    "#from tensorflow.keras.applications.vgg16 import VGG16, preprocess_input, decode_predictions\n",
    "from tensorflow.keras.layers import Input, Conv2D, Flatten, Dense, Conv2DTranspose, Reshape, Lambda, Activation, \\\n",
    "    BatchNormalization, LeakyReLU, Dropout\n",
    "from tensorflow.keras.models import Model\n",
    "from tensorflow import keras\n",
    "from skimage.io import imread, imshow, imread_collection, concatenate_images\n",
    "from skimage.transform import resize\n",
    "from tqdm import tqdm\n",
    "from tensorflow.keras.callbacks import ModelCheckpoint \n",
    "from matplotlib import pyplot\n",
    "from tensorflow.python.framework import ops\n",
    "import matplotlib.cm as cm\n",
    "import random"
   ]
  },
  {
   "cell_type": "code",
   "execution_count": 285,
   "id": "72c80ff9",
   "metadata": {},
   "outputs": [],
   "source": [
    "WEIGHTS_FOLDER = 'weights/'\n",
    "if not os.path.exists(WEIGHTS_FOLDER):\n",
    "#  os.makedirs(os.path.join(WEIGHTS_FOLDER,\"AE\"))\n",
    "  os.makedirs(os.path.join(WEIGHTS_FOLDER,\"VAE\"))"
   ]
  },
  {
   "cell_type": "code",
   "execution_count": 286,
   "id": "9423f11e",
   "metadata": {},
   "outputs": [],
   "source": [
    "IMG_WIDTH = 64\n",
    "IMG_HEIGHT = 64\n",
    "IMG_CHANNELS = 3\n",
    "INPUT_DIM = (IMG_WIDTH,IMG_HEIGHT,IMG_CHANNELS)\n",
    "BATCH_SIZE = 64\n",
    "Z_DIM = 5\n",
    "TRAIN_PATH='train/train'\n",
    "ANNOT_PATH='train/mask'"
   ]
  },
  {
   "cell_type": "code",
   "execution_count": 287,
   "id": "463a18b9",
   "metadata": {},
   "outputs": [
    {
     "name": "stdout",
     "output_type": "stream",
     "text": [
      "Model: \"model\"\n",
      "__________________________________________________________________________________________________\n",
      "Layer (type)                    Output Shape         Param #     Connected to                     \n",
      "==================================================================================================\n",
      "encoder_input (InputLayer)      [(None, 64, 64, 3)]  0                                            \n",
      "__________________________________________________________________________________________________\n",
      "encoder_conv_0 (Conv2D)         (None, 64, 64, 32)   896         encoder_input[0][0]              \n",
      "__________________________________________________________________________________________________\n",
      "leaky_re_lu (LeakyReLU)         (None, 64, 64, 32)   0           encoder_conv_0[0][0]             \n",
      "__________________________________________________________________________________________________\n",
      "encoder_conv_1 (Conv2D)         (None, 32, 32, 64)   18496       leaky_re_lu[0][0]                \n",
      "__________________________________________________________________________________________________\n",
      "leaky_re_lu_1 (LeakyReLU)       (None, 32, 32, 64)   0           encoder_conv_1[0][0]             \n",
      "__________________________________________________________________________________________________\n",
      "encoder_conv_2 (Conv2D)         (None, 16, 16, 64)   36928       leaky_re_lu_1[0][0]              \n",
      "__________________________________________________________________________________________________\n",
      "leaky_re_lu_2 (LeakyReLU)       (None, 16, 16, 64)   0           encoder_conv_2[0][0]             \n",
      "__________________________________________________________________________________________________\n",
      "encoder_conv_3 (Conv2D)         (None, 8, 8, 64)     36928       leaky_re_lu_2[0][0]              \n",
      "__________________________________________________________________________________________________\n",
      "leaky_re_lu_3 (LeakyReLU)       (None, 8, 8, 64)     0           encoder_conv_3[0][0]             \n",
      "__________________________________________________________________________________________________\n",
      "encoder_conv_4 (Conv2D)         (None, 4, 4, 64)     36928       leaky_re_lu_3[0][0]              \n",
      "__________________________________________________________________________________________________\n",
      "leaky_re_lu_4 (LeakyReLU)       (None, 4, 4, 64)     0           encoder_conv_4[0][0]             \n",
      "__________________________________________________________________________________________________\n",
      "encoder_conv_5 (Conv2D)         (None, 2, 2, 128)    73856       leaky_re_lu_4[0][0]              \n",
      "__________________________________________________________________________________________________\n",
      "leaky_re_lu_5 (LeakyReLU)       (None, 2, 2, 128)    0           encoder_conv_5[0][0]             \n",
      "__________________________________________________________________________________________________\n",
      "flatten (Flatten)               (None, 512)          0           leaky_re_lu_5[0][0]              \n",
      "__________________________________________________________________________________________________\n",
      "mu (Dense)                      (None, 5)            2565        flatten[0][0]                    \n",
      "__________________________________________________________________________________________________\n",
      "log_var (Dense)                 (None, 5)            2565        flatten[0][0]                    \n",
      "__________________________________________________________________________________________________\n",
      "encoder_output (Lambda)         (None, 5)            0           mu[0][0]                         \n",
      "                                                                 log_var[0][0]                    \n",
      "==================================================================================================\n",
      "Total params: 209,162\n",
      "Trainable params: 209,162\n",
      "Non-trainable params: 0\n",
      "__________________________________________________________________________________________________\n"
     ]
    }
   ],
   "source": [
    "# ENCODER\n",
    "def build_vae_encoder(input_dim, output_dim, conv_filters, conv_kernel_size,\n",
    "                      conv_strides, use_batch_norm=False, use_dropout=False):\n",
    "    # Clear tensorflow session to reset layer index numbers to 0 for LeakyRelu,\n",
    "    # BatchNormalization and Dropout.\n",
    "    # Otherwise, the names of above mentioned layers in the model\n",
    "    # would be inconsistent\n",
    "    global K\n",
    "    K.clear_session()\n",
    "\n",
    "    # Number of Conv layers\n",
    "    n_layers = len(conv_filters)\n",
    "\n",
    "    # Define model input\n",
    "    encoder_input = Input(shape=input_dim, name='encoder_input')\n",
    "    x = encoder_input\n",
    "\n",
    "    # Add convolutional layers\n",
    "    for i in range(n_layers):\n",
    "        x = Conv2D(filters=conv_filters[i],\n",
    "                   kernel_size=conv_kernel_size[i],\n",
    "                   strides=conv_strides[i],\n",
    "                   padding='same',\n",
    "                   name='encoder_conv_' + str(i)\n",
    "                   )(x)\n",
    "        if use_batch_norm:\n",
    "            x = BathcNormalization()(x)\n",
    "\n",
    "        x = LeakyReLU()(x)\n",
    "\n",
    "        if use_dropout:\n",
    "            x = Dropout(rate=0.25)(x)\n",
    "\n",
    "    # Required for reshaping latent vector while building Decoder\n",
    "    shape_before_flattening = K.int_shape(x)[1:]\n",
    "\n",
    "    x = Flatten()(x)\n",
    "\n",
    "    mean_mu = Dense(output_dim, name='mu')(x)\n",
    "    log_var = Dense(output_dim, name='log_var')(x)\n",
    "\n",
    "    # Defining a function for sampling\n",
    "    def sampling(args):\n",
    "        mean_mu, log_var = args\n",
    "        epsilon = K.random_normal(shape=K.shape(mean_mu), mean=0., stddev=1.)\n",
    "        return mean_mu + K.exp(log_var / 2) * epsilon\n",
    "\n",
    "        # Using a Keras Lambda Layer to include the sampling function as a layer\n",
    "\n",
    "    # in the model\n",
    "    encoder_output = Lambda(sampling, name='encoder_output')([mean_mu, log_var])\n",
    "\n",
    "    return encoder_input, encoder_output, mean_mu, log_var, shape_before_flattening, Model(encoder_input,\n",
    "                                                                                           encoder_output)\n",
    "\n",
    "vae_encoder_input, vae_encoder_output, mean_mu, log_var, vae_shape_before_flattening, vae_encoder = build_vae_encoder(\n",
    "    input_dim=INPUT_DIM,\n",
    "    output_dim=Z_DIM,\n",
    "    conv_filters=[32,64,64,64, 64, 128],\n",
    "    conv_kernel_size=[3, 3, 3, 3, 3,3],\n",
    "    conv_strides=[1, 2, 2, 2, 2, 2])\n",
    "#conv_filters=[8,16,32,32, 64, 128],  \n",
    "vae_encoder.summary()"
   ]
  },
  {
   "cell_type": "code",
   "execution_count": 288,
   "id": "4c35fbe1",
   "metadata": {},
   "outputs": [
    {
     "name": "stdout",
     "output_type": "stream",
     "text": [
      "Model: \"model_1\"\n",
      "_________________________________________________________________\n",
      "Layer (type)                 Output Shape              Param #   \n",
      "=================================================================\n",
      "decoder_input (InputLayer)   [(None, 5)]               0         \n",
      "_________________________________________________________________\n",
      "dense (Dense)                (None, 512)               3072      \n",
      "_________________________________________________________________\n",
      "reshape (Reshape)            (None, 2, 2, 128)         0         \n",
      "_________________________________________________________________\n",
      "decoder_conv_0 (Conv2DTransp (None, 4, 4, 128)         147584    \n",
      "_________________________________________________________________\n",
      "leaky_re_lu_6 (LeakyReLU)    (None, 4, 4, 128)         0         \n",
      "_________________________________________________________________\n",
      "decoder_conv_1 (Conv2DTransp (None, 8, 8, 64)          73792     \n",
      "_________________________________________________________________\n",
      "leaky_re_lu_7 (LeakyReLU)    (None, 8, 8, 64)          0         \n",
      "_________________________________________________________________\n",
      "decoder_conv_2 (Conv2DTransp (None, 16, 16, 64)        36928     \n",
      "_________________________________________________________________\n",
      "leaky_re_lu_8 (LeakyReLU)    (None, 16, 16, 64)        0         \n",
      "_________________________________________________________________\n",
      "decoder_conv_3 (Conv2DTransp (None, 32, 32, 64)        36928     \n",
      "_________________________________________________________________\n",
      "leaky_re_lu_9 (LeakyReLU)    (None, 32, 32, 64)        0         \n",
      "_________________________________________________________________\n",
      "decoder_conv_4 (Conv2DTransp (None, 64, 64, 64)        36928     \n",
      "_________________________________________________________________\n",
      "leaky_re_lu_10 (LeakyReLU)   (None, 64, 64, 64)        0         \n",
      "_________________________________________________________________\n",
      "decoder_conv_5 (Conv2DTransp (None, 64, 64, 1)         577       \n",
      "_________________________________________________________________\n",
      "activation (Activation)      (None, 64, 64, 1)         0         \n",
      "=================================================================\n",
      "Total params: 335,809\n",
      "Trainable params: 335,809\n",
      "Non-trainable params: 0\n",
      "_________________________________________________________________\n"
     ]
    }
   ],
   "source": [
    "# Decoder\n",
    "def build_decoder(input_dim, shape_before_flattening, conv_filters, conv_kernel_size, \n",
    "                  conv_strides):\n",
    "\n",
    "  # Number of Conv layers\n",
    "  n_layers = len(conv_filters)\n",
    "\n",
    "  # Define model input\n",
    "  decoder_input = Input(shape = (input_dim,) , name = 'decoder_input')\n",
    "\n",
    "  # To get an exact mirror image of the encoder\n",
    "  x = Dense(np.prod(shape_before_flattening))(decoder_input)\n",
    "  x = Reshape(shape_before_flattening)(x)\n",
    "\n",
    "  # Add convolutional layers\n",
    "  for i in range(n_layers):\n",
    "      x = Conv2DTranspose(filters = conv_filters[i], \n",
    "                  kernel_size = conv_kernel_size[i],\n",
    "                  strides = conv_strides[i], \n",
    "                  padding = 'same',\n",
    "                  name = 'decoder_conv_' + str(i)\n",
    "                  )(x)\n",
    "      \n",
    "      # Adding a sigmoid layer at the end to restrict the outputs \n",
    "      # between 0 and 1\n",
    "      if i < n_layers - 1:\n",
    "        x = LeakyReLU()(x)\n",
    "      else:\n",
    "        x = Activation('sigmoid')(x)\n",
    "  decoder_output = x\n",
    "\n",
    "  return decoder_input, decoder_output, Model(decoder_input, decoder_output)\n",
    "\n",
    "vae_decoder_input, vae_decoder_output, vae_decoder = build_decoder(input_dim=Z_DIM,\n",
    "                                                                   shape_before_flattening=vae_shape_before_flattening,\n",
    "                                                                   conv_filters=[128, 64,64,64, 64, 1],\n",
    "                                                                   conv_kernel_size=[3, 3, 3, 3, 3, 3],\n",
    "                                                                   conv_strides=[2, 2, 2, 2, 2, 1])\n",
    "                                                                  # conv_filters=[128, 64, 32,16, 8, 1],\n",
    "vae_decoder.summary()\n",
    "\n"
   ]
  },
  {
   "cell_type": "code",
   "execution_count": 289,
   "id": "81fbc5f0",
   "metadata": {},
   "outputs": [],
   "source": [
    "import cv2\n",
    "\n",
    "def data_gen(img_folder, mask_folder, batch_size):\n",
    "  c = 0\n",
    "  n = list(int(s.split(\".\")[0]) for s in list(next(os.walk(img_folder))[2]))\n",
    "  random.shuffle(n)\n",
    "  \n",
    "  while (True):\n",
    "    img = np.zeros((batch_size, IMG_HEIGHT, IMG_WIDTH, IMG_CHANNELS)).astype('float')\n",
    "    mask = np.zeros((batch_size, IMG_HEIGHT, IMG_WIDTH, 1)).astype('float')\n",
    "\n",
    "    for i in range(c, c+batch_size): #initially from 0 to 16, c = 0. \n",
    "      #print(i)\n",
    "      train_img = cv2.imread(img_folder+'/'+str(n[i])+'.jpg')/255.\n",
    "      train_img =  cv2.resize(train_img, (IMG_HEIGHT, IMG_WIDTH))# Read an image from folder and resize\n",
    "      \n",
    "      img[i-c] = train_img #add to array - img[0], img[1], and so on.\n",
    "                                                   \n",
    "      \n",
    "      train_mask = cv2.imread(mask_folder+'/'+str(n[i])+'.png', cv2.IMREAD_GRAYSCALE)/255.\n",
    "      train_mask = cv2.resize(train_mask, (IMG_HEIGHT, IMG_WIDTH))\n",
    "      train_mask = train_mask.reshape(IMG_HEIGHT, IMG_WIDTH, 1) # Add extra dimension for parity with train_img size [512 * 512 * 3]\n",
    "\n",
    "      mask[i-c] = train_mask\n",
    "\n",
    "    c+=batch_size\n",
    "    if(c+batch_size>=len(os.listdir(img_folder))):\n",
    "      c=0\n",
    "      random.shuffle(n)\n",
    "      random.shuffle(m)\n",
    "      \n",
    "                  # print \"randomizing again\"\n",
    "    yield img, mask\n",
    "\n",
    "\n",
    "\n",
    "\n",
    "train_frame_path = 'train/train'\n",
    "train_mask_path = 'train/mask'\n",
    "\n",
    "val_frame_path = 'Dataset/images/train images'\n",
    "val_mask_path = 'Dataset/masks/train label'\n",
    "\n",
    "# Train the model\n",
    "train_gen = data_gen(train_frame_path,train_mask_path, batch_size = BATCH_SIZE)\n",
    "val_gen = data_gen(val_frame_path,val_mask_path, batch_size = BATCH_SIZE)"
   ]
  },
  {
   "cell_type": "code",
   "execution_count": 290,
   "id": "f0f4067a",
   "metadata": {},
   "outputs": [],
   "source": [
    "def load_image(path, preprocess=True):\n",
    "    \"\"\"Load and preprocess image.\"\"\"\n",
    "    train_ids = list(int(s.split(\".\")[0]) for s in list(next(os.walk(path))[2]))\n",
    "    image = np.zeros((len(train_ids), IMG_HEIGHT, IMG_WIDTH, IMG_CHANNELS))\n",
    "    sys.stdout.flush()\n",
    "    for n, id_ in tqdm(enumerate(train_ids), total=len(train_ids)):\n",
    "        img = imread(path+'/'+str(id_)+'.jpg')[:,:,:IMG_CHANNELS]\n",
    "        img = resize(img, (IMG_HEIGHT, IMG_WIDTH), mode='constant', preserve_range=True)\n",
    "        image[n] = img.astype('uint8') / 255\n",
    "    return image"
   ]
  },
  {
   "cell_type": "code",
   "execution_count": 291,
   "id": "ccc69e0d",
   "metadata": {},
   "outputs": [
    {
     "data": {
      "text/plain": [
       "'def build_guided_model():\\n    \"\"\"Function returning modified model.\\n    \\n    Changes gradient function for all ReLu activations\\n    according to Guided Backpropagation.\\n    \"\"\"\\n    if \"GuidedBackProp\" not in ops._gradient_registry._registry:\\n        @ops.RegisterGradient(\"GuidedBackProp\")\\n        def _GuidedBackProp(op, grad):\\n            dtype = op.inputs[0].dtype\\n            return grad * tf.cast(grad > 0., dtype) *                    tf.cast(op.inputs[0] > 0., dtype)\\n\\n    g=tf.compat.v1.get_default_graph()     \\n    with g.gradient_override_map({\\'Relu\\': \\'GuidedBackProp\\'}):\\n        new_model = build_model()\\n        new_model.summary()\\n    return new_model'"
      ]
     },
     "execution_count": 291,
     "metadata": {},
     "output_type": "execute_result"
    }
   ],
   "source": [
    "'''def build_guided_model():\n",
    "    \"\"\"Function returning modified model.\n",
    "    \n",
    "    Changes gradient function for all ReLu activations\n",
    "    according to Guided Backpropagation.\n",
    "    \"\"\"\n",
    "    if \"GuidedBackProp\" not in ops._gradient_registry._registry:\n",
    "        @ops.RegisterGradient(\"GuidedBackProp\")\n",
    "        def _GuidedBackProp(op, grad):\n",
    "            dtype = op.inputs[0].dtype\n",
    "            return grad * tf.cast(grad > 0., dtype) * \\\n",
    "                   tf.cast(op.inputs[0] > 0., dtype)\n",
    "\n",
    "    g=tf.compat.v1.get_default_graph()     \n",
    "    with g.gradient_override_map({'Relu': 'GuidedBackProp'}):\n",
    "        new_model = build_model()\n",
    "        new_model.summary()\n",
    "    return new_model'''"
   ]
  },
  {
   "cell_type": "code",
   "execution_count": 292,
   "id": "05423d79",
   "metadata": {},
   "outputs": [],
   "source": [
    "def build_model():\n",
    "    vae_input = vae_encoder_input\n",
    "    vae_output = vae_decoder(vae_encoder_output)\n",
    "    vae_model = Model(vae_input, vae_output)\n",
    "    \n",
    "    return vae_model"
   ]
  },
  {
   "cell_type": "code",
   "execution_count": 293,
   "id": "4df292cb",
   "metadata": {},
   "outputs": [
    {
     "data": {
      "text/plain": [
       "\"from segmentation_models.losses import bce_jaccard_loss\\nfrom segmentation_models.metrics import iou_score\\nfrom tensorflow.keras.optimizers import Adam\\nLEARNING_RATE = 0.0005\\nN_EPOCHS = 200\\nLOSS_FACTOR = 10000\\n\\n%env SM_FRAMEWORK=tf.keras\\n\\ndef r_loss(y_true, y_pred):\\n    return K.mean(K.square(y_true - y_pred), axis = [1,2,3])\\n\\ndef kl_loss(y_true, y_pred):\\n    kl_loss = -0.5 * K.sum(1 + log_var - K.square(mean_mu) - K.exp(log_var), axis=1)\\n    return kl_loss\\n\\n\\ndef total_loss(y_true, y_pred):\\n    return LOSS_FACTOR * r_loss(y_true, y_pred) + kl_loss(y_true, y_pred)\\n\\n\\n\\nadam_optimizer = Adam(lr=LEARNING_RATE)\\nmodel = build_model()\\nmodel.compile('Adam', loss=total_loss, metrics=[r_loss, kl_loss])\\n\\n#model.summary()\\n#model.compile('Adam', loss=bce_jaccard_loss, metrics=[iou_score])\\ncheckpoint_vae = ModelCheckpoint(os.path.join(WEIGHTS_FOLDER, 'VAE/model_praveen.hdf5'), save_weights_only = True, verbose=1)\\n\""
      ]
     },
     "execution_count": 293,
     "metadata": {},
     "output_type": "execute_result"
    }
   ],
   "source": [
    "'''from segmentation_models.losses import bce_jaccard_loss\n",
    "from segmentation_models.metrics import iou_score\n",
    "from tensorflow.keras.optimizers import Adam\n",
    "LEARNING_RATE = 0.0005\n",
    "N_EPOCHS = 200\n",
    "LOSS_FACTOR = 10000\n",
    "\n",
    "%env SM_FRAMEWORK=tf.keras\n",
    "\n",
    "def r_loss(y_true, y_pred):\n",
    "    return K.mean(K.square(y_true - y_pred), axis = [1,2,3])\n",
    "\n",
    "def kl_loss(y_true, y_pred):\n",
    "    kl_loss = -0.5 * K.sum(1 + log_var - K.square(mean_mu) - K.exp(log_var), axis=1)\n",
    "    return kl_loss\n",
    "\n",
    "\n",
    "def total_loss(y_true, y_pred):\n",
    "    return LOSS_FACTOR * r_loss(y_true, y_pred) + kl_loss(y_true, y_pred)\n",
    "\n",
    "\n",
    "\n",
    "adam_optimizer = Adam(lr=LEARNING_RATE)\n",
    "model = build_model()\n",
    "model.compile('Adam', loss=total_loss, metrics=[r_loss, kl_loss])\n",
    "\n",
    "#model.summary()\n",
    "#model.compile('Adam', loss=bce_jaccard_loss, metrics=[iou_score])\n",
    "checkpoint_vae = ModelCheckpoint(os.path.join(WEIGHTS_FOLDER, 'VAE/model_praveen.hdf5'), save_weights_only = True, verbose=1)\n",
    "'''"
   ]
  },
  {
   "cell_type": "code",
   "execution_count": 294,
   "id": "25fea5a9",
   "metadata": {},
   "outputs": [
    {
     "ename": "SyntaxError",
     "evalue": "EOF while scanning triple-quoted string literal (<ipython-input-294-541b8e420d29>, line 29)",
     "output_type": "error",
     "traceback": [
      "\u001b[1;36m  File \u001b[1;32m\"<ipython-input-294-541b8e420d29>\"\u001b[1;36m, line \u001b[1;32m29\u001b[0m\n\u001b[1;33m    checkpoint_vae = ModelCheckpoint(os.path.join(WEIGHTS_FOLDER, 'VAE/model_praveen.hdf5'), save_weights_only = True, verbose=1)\u001b[0m\n\u001b[1;37m                                                                                                                                 \n^\u001b[0m\n\u001b[1;31mSyntaxError\u001b[0m\u001b[1;31m:\u001b[0m EOF while scanning triple-quoted string literal\n"
     ]
    }
   ],
   "source": [
    "from segmentation_models.losses import bce_jaccard_loss\n",
    "from segmentation_models.metrics import iou_score\n",
    "from tensorflow.keras.optimizers import Adam\n",
    "LEARNING_RATE = 0.0005\n",
    "N_EPOCHS = 200\n",
    "LOSS_FACTOR = 10000\n",
    "\n",
    "%env SM_FRAMEWORK=tf.keras\n",
    "\"\"\"\n",
    "def r_loss(y_true, y_pred):\n",
    "    return K.mean(K.square(y_true - y_pred), axis = [1,2,3])\n",
    "\n",
    "def kl_loss(y_true, y_pred):\n",
    "    kl_loss = -0.5 * K.sum(1 + log_var - K.square(mean_mu) - K.exp(log_var), axis=1)\n",
    "    return kl_loss\n",
    "\n",
    "\n",
    "def total_loss(y_true, y_pred):\n",
    "    return LOSS_FACTOR * r_loss(y_true, y_pred) + kl_loss(y_true, y_pred)\n",
    "\"\"\"\n",
    "\n",
    "\n",
    "#adam_optimizer = Adam(lr=LEARNING_RATE)\n",
    "\"\"\"model = build_model()\n",
    "#model.compile(optimizer=adam_optimizer, loss=total_loss, metrics=[r_loss, kl_loss])\n",
    "\n",
    "model.summary()\n",
    "model.compile('Adam', loss=bce_jaccard_loss, metrics=[iou_score])\n",
    "checkpoint_vae = ModelCheckpoint(os.path.join(WEIGHTS_FOLDER, 'VAE/model_praveen.hdf5'), save_weights_only = True, verbose=1)\n"
   ]
  },
  {
   "cell_type": "code",
   "execution_count": 295,
   "id": "77c232dd",
   "metadata": {},
   "outputs": [
    {
     "name": "stdout",
     "output_type": "stream",
     "text": [
      "Model: \"model_2\"\n",
      "__________________________________________________________________________________________________\n",
      "Layer (type)                    Output Shape         Param #     Connected to                     \n",
      "==================================================================================================\n",
      "encoder_input (InputLayer)      [(None, 64, 64, 3)]  0                                            \n",
      "__________________________________________________________________________________________________\n",
      "encoder_conv_0 (Conv2D)         (None, 64, 64, 32)   896         encoder_input[0][0]              \n",
      "__________________________________________________________________________________________________\n",
      "leaky_re_lu (LeakyReLU)         (None, 64, 64, 32)   0           encoder_conv_0[0][0]             \n",
      "__________________________________________________________________________________________________\n",
      "encoder_conv_1 (Conv2D)         (None, 32, 32, 64)   18496       leaky_re_lu[0][0]                \n",
      "__________________________________________________________________________________________________\n",
      "leaky_re_lu_1 (LeakyReLU)       (None, 32, 32, 64)   0           encoder_conv_1[0][0]             \n",
      "__________________________________________________________________________________________________\n",
      "encoder_conv_2 (Conv2D)         (None, 16, 16, 64)   36928       leaky_re_lu_1[0][0]              \n",
      "__________________________________________________________________________________________________\n",
      "leaky_re_lu_2 (LeakyReLU)       (None, 16, 16, 64)   0           encoder_conv_2[0][0]             \n",
      "__________________________________________________________________________________________________\n",
      "encoder_conv_3 (Conv2D)         (None, 8, 8, 64)     36928       leaky_re_lu_2[0][0]              \n",
      "__________________________________________________________________________________________________\n",
      "leaky_re_lu_3 (LeakyReLU)       (None, 8, 8, 64)     0           encoder_conv_3[0][0]             \n",
      "__________________________________________________________________________________________________\n",
      "encoder_conv_4 (Conv2D)         (None, 4, 4, 64)     36928       leaky_re_lu_3[0][0]              \n",
      "__________________________________________________________________________________________________\n",
      "leaky_re_lu_4 (LeakyReLU)       (None, 4, 4, 64)     0           encoder_conv_4[0][0]             \n",
      "__________________________________________________________________________________________________\n",
      "encoder_conv_5 (Conv2D)         (None, 2, 2, 128)    73856       leaky_re_lu_4[0][0]              \n",
      "__________________________________________________________________________________________________\n",
      "leaky_re_lu_5 (LeakyReLU)       (None, 2, 2, 128)    0           encoder_conv_5[0][0]             \n",
      "__________________________________________________________________________________________________\n",
      "flatten (Flatten)               (None, 512)          0           leaky_re_lu_5[0][0]              \n",
      "__________________________________________________________________________________________________\n",
      "mu (Dense)                      (None, 5)            2565        flatten[0][0]                    \n",
      "__________________________________________________________________________________________________\n",
      "log_var (Dense)                 (None, 5)            2565        flatten[0][0]                    \n",
      "__________________________________________________________________________________________________\n",
      "encoder_output (Lambda)         (None, 5)            0           mu[0][0]                         \n",
      "                                                                 log_var[0][0]                    \n",
      "__________________________________________________________________________________________________\n",
      "model_1 (Functional)            (None, 64, 64, 1)    335809      encoder_output[0][0]             \n",
      "==================================================================================================\n",
      "Total params: 544,971\n",
      "Trainable params: 544,971\n",
      "Non-trainable params: 0\n",
      "__________________________________________________________________________________________________\n"
     ]
    },
    {
     "ename": "ValueError",
     "evalue": "You are trying to load a weight file containing 7 layers into a model with 9 layers.",
     "output_type": "error",
     "traceback": [
      "\u001b[1;31m---------------------------------------------------------------------------\u001b[0m",
      "\u001b[1;31mValueError\u001b[0m                                Traceback (most recent call last)",
      "\u001b[1;32m<ipython-input-295-57bf32389f10>\u001b[0m in \u001b[0;36m<module>\u001b[1;34m\u001b[0m\n\u001b[0;32m      1\u001b[0m \u001b[0mmodel\u001b[0m \u001b[1;33m=\u001b[0m \u001b[0mbuild_model\u001b[0m\u001b[1;33m(\u001b[0m\u001b[1;33m)\u001b[0m\u001b[1;33m\u001b[0m\u001b[1;33m\u001b[0m\u001b[0m\n\u001b[0;32m      2\u001b[0m \u001b[0mmodel\u001b[0m\u001b[1;33m.\u001b[0m\u001b[0msummary\u001b[0m\u001b[1;33m(\u001b[0m\u001b[1;33m)\u001b[0m\u001b[1;33m\u001b[0m\u001b[1;33m\u001b[0m\u001b[0m\n\u001b[1;32m----> 3\u001b[1;33m \u001b[0mmodel\u001b[0m\u001b[1;33m.\u001b[0m\u001b[0mload_weights\u001b[0m\u001b[1;33m(\u001b[0m\u001b[1;34m'SegGradCAM.hdf5'\u001b[0m\u001b[1;33m)\u001b[0m\u001b[1;33m\u001b[0m\u001b[1;33m\u001b[0m\u001b[0m\n\u001b[0m",
      "\u001b[1;32m~\\anaconda3\\envs\\panday\\lib\\site-packages\\tensorflow\\python\\keras\\engine\\training.py\u001b[0m in \u001b[0;36mload_weights\u001b[1;34m(self, filepath, by_name, skip_mismatch, options)\u001b[0m\n\u001b[0;32m   2324\u001b[0m             f, self.layers, skip_mismatch=skip_mismatch)\n\u001b[0;32m   2325\u001b[0m       \u001b[1;32melse\u001b[0m\u001b[1;33m:\u001b[0m\u001b[1;33m\u001b[0m\u001b[1;33m\u001b[0m\u001b[0m\n\u001b[1;32m-> 2326\u001b[1;33m         \u001b[0mhdf5_format\u001b[0m\u001b[1;33m.\u001b[0m\u001b[0mload_weights_from_hdf5_group\u001b[0m\u001b[1;33m(\u001b[0m\u001b[0mf\u001b[0m\u001b[1;33m,\u001b[0m \u001b[0mself\u001b[0m\u001b[1;33m.\u001b[0m\u001b[0mlayers\u001b[0m\u001b[1;33m)\u001b[0m\u001b[1;33m\u001b[0m\u001b[1;33m\u001b[0m\u001b[0m\n\u001b[0m\u001b[0;32m   2327\u001b[0m \u001b[1;33m\u001b[0m\u001b[0m\n\u001b[0;32m   2328\u001b[0m   \u001b[1;32mdef\u001b[0m \u001b[0m_updated_config\u001b[0m\u001b[1;33m(\u001b[0m\u001b[0mself\u001b[0m\u001b[1;33m)\u001b[0m\u001b[1;33m:\u001b[0m\u001b[1;33m\u001b[0m\u001b[1;33m\u001b[0m\u001b[0m\n",
      "\u001b[1;32m~\\anaconda3\\envs\\panday\\lib\\site-packages\\tensorflow\\python\\keras\\saving\\hdf5_format.py\u001b[0m in \u001b[0;36mload_weights_from_hdf5_group\u001b[1;34m(f, layers)\u001b[0m\n\u001b[0;32m    686\u001b[0m   \u001b[0mlayer_names\u001b[0m \u001b[1;33m=\u001b[0m \u001b[0mfiltered_layer_names\u001b[0m\u001b[1;33m\u001b[0m\u001b[1;33m\u001b[0m\u001b[0m\n\u001b[0;32m    687\u001b[0m   \u001b[1;32mif\u001b[0m \u001b[0mlen\u001b[0m\u001b[1;33m(\u001b[0m\u001b[0mlayer_names\u001b[0m\u001b[1;33m)\u001b[0m \u001b[1;33m!=\u001b[0m \u001b[0mlen\u001b[0m\u001b[1;33m(\u001b[0m\u001b[0mfiltered_layers\u001b[0m\u001b[1;33m)\u001b[0m\u001b[1;33m:\u001b[0m\u001b[1;33m\u001b[0m\u001b[1;33m\u001b[0m\u001b[0m\n\u001b[1;32m--> 688\u001b[1;33m     raise ValueError('You are trying to load a weight file '\n\u001b[0m\u001b[0;32m    689\u001b[0m                      \u001b[1;34m'containing '\u001b[0m \u001b[1;33m+\u001b[0m \u001b[0mstr\u001b[0m\u001b[1;33m(\u001b[0m\u001b[0mlen\u001b[0m\u001b[1;33m(\u001b[0m\u001b[0mlayer_names\u001b[0m\u001b[1;33m)\u001b[0m\u001b[1;33m)\u001b[0m \u001b[1;33m+\u001b[0m\u001b[1;33m\u001b[0m\u001b[1;33m\u001b[0m\u001b[0m\n\u001b[0;32m    690\u001b[0m                      \u001b[1;34m' layers into a model with '\u001b[0m \u001b[1;33m+\u001b[0m \u001b[0mstr\u001b[0m\u001b[1;33m(\u001b[0m\u001b[0mlen\u001b[0m\u001b[1;33m(\u001b[0m\u001b[0mfiltered_layers\u001b[0m\u001b[1;33m)\u001b[0m\u001b[1;33m)\u001b[0m \u001b[1;33m+\u001b[0m\u001b[1;33m\u001b[0m\u001b[1;33m\u001b[0m\u001b[0m\n",
      "\u001b[1;31mValueError\u001b[0m: You are trying to load a weight file containing 7 layers into a model with 9 layers."
     ]
    }
   ],
   "source": [
    "model = build_model()\n",
    "model.summary()\n",
    "model.load_weights('SegGradCAM.hdf5')"
   ]
  },
  {
   "cell_type": "code",
   "execution_count": 296,
   "id": "937af7b2",
   "metadata": {},
   "outputs": [],
   "source": [
    "NO_OF_TRAINING_IMAGES = len(os.listdir(train_frame_path))\n",
    "NO_OF_VAL_IMAGES = len(os.listdir(val_frame_path))"
   ]
  },
  {
   "cell_type": "code",
   "execution_count": 297,
   "id": "d7acca17",
   "metadata": {},
   "outputs": [
    {
     "ename": "SyntaxError",
     "evalue": "EOF while scanning triple-quoted string literal (<ipython-input-297-4a2f0296d87e>, line 6)",
     "output_type": "error",
     "traceback": [
      "\u001b[1;36m  File \u001b[1;32m\"<ipython-input-297-4a2f0296d87e>\"\u001b[1;36m, line \u001b[1;32m6\u001b[0m\n\u001b[1;33m    callbacks=[checkpoint_vae])\u001b[0m\n\u001b[1;37m                               \n^\u001b[0m\n\u001b[1;31mSyntaxError\u001b[0m\u001b[1;31m:\u001b[0m EOF while scanning triple-quoted string literal\n"
     ]
    }
   ],
   "source": [
    "\"\"\"model.fit(train_gen, epochs=5,\n",
    "                          steps_per_epoch = (NO_OF_TRAINING_IMAGES//BATCH_SIZE),\n",
    "                          validation_data=val_gen, \n",
    "                          validation_steps=(NO_OF_VAL_IMAGES//BATCH_SIZE),\n",
    "                          #callbacks=callbacks_list,\n",
    "                          callbacks=[checkpoint_vae])"
   ]
  },
  {
   "cell_type": "code",
   "execution_count": 298,
   "id": "462acc75",
   "metadata": {},
   "outputs": [],
   "source": [
    "def make_gradcam_heatmap(img_array, model, last_conv_layer_name, encoder_out, pred_index=None):\n",
    "    grad_model = tf.keras.models.Model(\n",
    "        [model.inputs], [model.get_layer(last_conv_layer_name).output, model.get_layer(encoder_out).output]\n",
    "    )\n",
    "    with tf.GradientTape() as tape:\n",
    "        last_conv_layer_output, preds = grad_model(img_array)\n",
    "        #preds = preds.squeeze()\n",
    "        #class_channel = preds[2][0][0]\n",
    "    #print(\"shape of class_channel: \"+str(tf.shape(class_channel)))\n",
    "    #print(\"class_channel: \"+str((class_channel)))\n",
    "    #print(\"last_conv_layer_output: \"+str(last_conv_layer_output))\n",
    "    \n",
    "    grads = tape.gradient(preds, last_conv_layer_output)\n",
    "    \n",
    "    \"\"\"with tf.GradientTape() as tape_1:\n",
    "        last_conv_layer_output, preds = grad_model(img_array)\n",
    "        if pred_index is None:\n",
    "            pred_index = tf.argmax(preds[2])\n",
    "        class_channel = preds[2][0][1]\n",
    "    grads_1 = tape_1.gradient(class_channel, last_conv_layer_output)\"\"\"\n",
    "\n",
    "    #print(\"grads: \"+str((grads)))\n",
    "    #print(\"###############grads_1: \"+str((grads_1)))\n",
    "    pooled_grads = tf.reduce_mean(grads, axis=(0, 1, 2))\n",
    "    #pooled_grads_1 = tf.reduce_mean(grads_1, axis=(0, 1, 2))\n",
    "    #print(\"pooled_grads: \"+str(tf.shape(pooled_grads)))\n",
    "    last_conv_layer_output = last_conv_layer_output[0]\n",
    "    heatmap = last_conv_layer_output @ pooled_grads[..., tf.newaxis]\n",
    "    #heatmap_1 = last_conv_layer_output @ pooled_grads_1[..., tf.newaxis]\n",
    "    heatmap = tf.squeeze(heatmap)\n",
    "    #heatmap_1 = tf.squeeze(heatmap_1)\n",
    "\n",
    "    heatmap = tf.maximum(heatmap, 0) / tf.math.reduce_max(heatmap)\n",
    "    #heatmap_1 = tf.maximum(heatmap, 0) / tf.math.reduce_max(heatmap_1)\n",
    "    #print(\"heatmap: \"+str((heatmap)))\n",
    "    return heatmap.numpy()"
   ]
  },
  {
   "cell_type": "code",
   "execution_count": 299,
   "id": "a1ea8748",
   "metadata": {},
   "outputs": [],
   "source": [
    "last_conv_layer_name = \"encoder_conv_5\"\n",
    "encoder_out = \"encoder_output\""
   ]
  },
  {
   "cell_type": "code",
   "execution_count": 333,
   "id": "a244be14",
   "metadata": {},
   "outputs": [
    {
     "name": "stderr",
     "output_type": "stream",
     "text": [
      "100%|██████████| 8/8 [00:00<00:00, 70.76it/s]\n"
     ]
    }
   ],
   "source": [
    "img_path='Dataset/image'\n",
    "a = load_image(img_path)\n",
    "\n"
   ]
  },
  {
   "cell_type": "code",
   "execution_count": 334,
   "id": "1f2f7e10",
   "metadata": {},
   "outputs": [
    {
     "data": {
      "text/plain": [
       "<matplotlib.image.AxesImage at 0x1c7beb34d00>"
      ]
     },
     "execution_count": 334,
     "metadata": {},
     "output_type": "execute_result"
    },
    {
     "data": {
      "image/png": "[encoded data removed]",
      "text/plain": [
       "<Figure size 432x288 with 1 Axes>"
      ]
     },
     "metadata": {
      "needs_background": "light"
     },
     "output_type": "display_data"
    }
   ],
   "source": [
    "matplotlib.pyplot.imshow(a[4])"
   ]
  },
  {
   "cell_type": "code",
   "execution_count": 335,
   "id": "2fc4c4d3",
   "metadata": {},
   "outputs": [],
   "source": [
    "img_array = a[4]\n",
    "img_array = keras.preprocessing.image.img_to_array(img_array)\n",
    "img_array = np.expand_dims(img_array, axis=0)"
   ]
  },
  {
   "cell_type": "code",
   "execution_count": 336,
   "id": "60108c34",
   "metadata": {},
   "outputs": [
    {
     "name": "stdout",
     "output_type": "stream",
     "text": [
      "tf.Tensor([[-0.6342183  -0.4756242  -0.52449954 -1.4576821  -0.55002767]], shape=(1, 5), dtype=float32)\n"
     ]
    }
   ],
   "source": [
    "Z = vae_encoder(img_array)\n",
    "print(Z)"
   ]
  },
  {
   "cell_type": "code",
   "execution_count": 337,
   "id": "24a27afd",
   "metadata": {},
   "outputs": [
    {
     "data": {
      "text/plain": [
       "'\\n0: NA\\n1: pose of face\\n2: Hair\\n3 : Entire Face\\n4: Length of face and well defined jaw line thus male/female\\n5: Slightly oval shape, again male to female\\n6: NA\\n7: NA\\n8: NA\\n9:\\n'"
      ]
     },
     "execution_count": 337,
     "metadata": {},
     "output_type": "execute_result"
    }
   ],
   "source": [
    "\n",
    "\n",
    "'''\n",
    "0: NA\n",
    "1: pose of face\n",
    "2: Hair\n",
    "3 : Entire Face\n",
    "4: Length of face and well defined jaw line thus male/female\n",
    "5: Slightly oval shape, again male to female\n",
    "6: NA\n",
    "7: NA\n",
    "8: NA\n",
    "9:\n",
    "'''"
   ]
  },
  {
   "cell_type": "code",
   "execution_count": 338,
   "id": "a59ecb6a",
   "metadata": {},
   "outputs": [
    {
     "ename": "FileNotFoundError",
     "evalue": "[Errno 2] No such file or directory: 'Outputs/latent1/1.jpeg'",
     "output_type": "error",
     "traceback": [
      "\u001b[1;31m---------------------------------------------------------------------------\u001b[0m",
      "\u001b[1;31mFileNotFoundError\u001b[0m                         Traceback (most recent call last)",
      "\u001b[1;32m<ipython-input-338-ec40213db16f>\u001b[0m in \u001b[0;36m<module>\u001b[1;34m\u001b[0m\n\u001b[0;32m     13\u001b[0m \u001b[0ma\u001b[0m \u001b[1;33m=\u001b[0m \u001b[0mImage\u001b[0m\u001b[1;33m.\u001b[0m\u001b[0mfromarray\u001b[0m\u001b[1;33m(\u001b[0m\u001b[0ma\u001b[0m\u001b[1;33m)\u001b[0m\u001b[1;33m\u001b[0m\u001b[1;33m\u001b[0m\u001b[0m\n\u001b[0;32m     14\u001b[0m \u001b[1;31m#a = a.convert(\"L\")\u001b[0m\u001b[1;33m\u001b[0m\u001b[1;33m\u001b[0m\u001b[1;33m\u001b[0m\u001b[0m\n\u001b[1;32m---> 15\u001b[1;33m \u001b[0ma\u001b[0m\u001b[1;33m.\u001b[0m\u001b[0msave\u001b[0m\u001b[1;33m(\u001b[0m\u001b[1;34m\"Outputs/latent1/\"\u001b[0m\u001b[1;33m+\u001b[0m\u001b[0mstr\u001b[0m\u001b[1;33m(\u001b[0m\u001b[0mi\u001b[0m\u001b[1;33m)\u001b[0m\u001b[1;33m+\u001b[0m\u001b[1;34m\".jpeg\"\u001b[0m\u001b[1;33m)\u001b[0m\u001b[1;33m\u001b[0m\u001b[1;33m\u001b[0m\u001b[0m\n\u001b[0m",
      "\u001b[1;32m~\\anaconda3\\envs\\panday\\lib\\site-packages\\PIL\\Image.py\u001b[0m in \u001b[0;36msave\u001b[1;34m(self, fp, format, **params)\u001b[0m\n\u001b[0;32m   2167\u001b[0m                 \u001b[0mfp\u001b[0m \u001b[1;33m=\u001b[0m \u001b[0mbuiltins\u001b[0m\u001b[1;33m.\u001b[0m\u001b[0mopen\u001b[0m\u001b[1;33m(\u001b[0m\u001b[0mfilename\u001b[0m\u001b[1;33m,\u001b[0m \u001b[1;34m\"r+b\"\u001b[0m\u001b[1;33m)\u001b[0m\u001b[1;33m\u001b[0m\u001b[1;33m\u001b[0m\u001b[0m\n\u001b[0;32m   2168\u001b[0m             \u001b[1;32melse\u001b[0m\u001b[1;33m:\u001b[0m\u001b[1;33m\u001b[0m\u001b[1;33m\u001b[0m\u001b[0m\n\u001b[1;32m-> 2169\u001b[1;33m                 \u001b[0mfp\u001b[0m \u001b[1;33m=\u001b[0m \u001b[0mbuiltins\u001b[0m\u001b[1;33m.\u001b[0m\u001b[0mopen\u001b[0m\u001b[1;33m(\u001b[0m\u001b[0mfilename\u001b[0m\u001b[1;33m,\u001b[0m \u001b[1;34m\"w+b\"\u001b[0m\u001b[1;33m)\u001b[0m\u001b[1;33m\u001b[0m\u001b[1;33m\u001b[0m\u001b[0m\n\u001b[0m\u001b[0;32m   2170\u001b[0m \u001b[1;33m\u001b[0m\u001b[0m\n\u001b[0;32m   2171\u001b[0m         \u001b[1;32mtry\u001b[0m\u001b[1;33m:\u001b[0m\u001b[1;33m\u001b[0m\u001b[1;33m\u001b[0m\u001b[0m\n",
      "\u001b[1;31mFileNotFoundError\u001b[0m: [Errno 2] No such file or directory: 'Outputs/latent1/1.jpeg'"
     ]
    },
    {
     "data": {
      "image/png": "[encoded data removed]",
      "text/plain": [
       "<Figure size 432x288 with 2 Axes>"
      ]
     },
     "metadata": {
      "needs_background": "light"
     },
     "output_type": "display_data"
    }
   ],
   "source": [
    "i=1\n",
    "new =tf.constant([-1.6857268,   -2.24582,    2.3516164, -2.5192397, -1.4764591], shape=(1, 5), dtype='float32') \n",
    "###################Angle of Face & hair,Hair shape from new to old person, Men +ve and women -ve,Close focus to far, More Crisp image\n",
    "#Out = vae_decoder(new)\n",
    "a = np.array(vae_decoder(new)).squeeze()\n",
    "#a = a.squeeze()\n",
    "#print(a.shape)\n",
    "imshow(a)\n",
    "\n",
    "\n",
    "a = a*255\n",
    "a = a.astype(np.uint8)\n",
    "a = Image.fromarray(a)\n",
    "#a = a.convert(\"L\")\n",
    "a.save(\"Outputs/latent1/\"+str(i)+\".jpeg\")"
   ]
  },
  {
   "cell_type": "code",
   "execution_count": null,
   "id": "993a995a",
   "metadata": {},
   "outputs": [],
   "source": [
    "res = model.predict(img_array)\n",
    "heatmap = make_gradcam_heatmap(img_array, model, last_conv_layer_name, encoder_out)\n",
    "res = res.squeeze()\n",
    "print(res.shape)\n",
    "imshow(res)"
   ]
  },
  {
   "cell_type": "code",
   "execution_count": 339,
   "id": "35b16250",
   "metadata": {},
   "outputs": [
    {
     "ename": "TypeError",
     "evalue": "unsupported operand type(s) for *: 'Image' and 'int'",
     "output_type": "error",
     "traceback": [
      "\u001b[1;31m---------------------------------------------------------------------------\u001b[0m",
      "\u001b[1;31mTypeError\u001b[0m                                 Traceback (most recent call last)",
      "\u001b[1;32m<ipython-input-339-2b808a7bb3f8>\u001b[0m in \u001b[0;36m<module>\u001b[1;34m\u001b[0m\n\u001b[0;32m      4\u001b[0m \u001b[1;33m\u001b[0m\u001b[0m\n\u001b[0;32m      5\u001b[0m \u001b[1;32mfrom\u001b[0m \u001b[0mPIL\u001b[0m \u001b[1;32mimport\u001b[0m \u001b[0mImage\u001b[0m\u001b[1;33m\u001b[0m\u001b[1;33m\u001b[0m\u001b[0m\n\u001b[1;32m----> 6\u001b[1;33m \u001b[0mres\u001b[0m \u001b[1;33m=\u001b[0m \u001b[0mres\u001b[0m\u001b[1;33m*\u001b[0m\u001b[1;36m255\u001b[0m\u001b[1;33m\u001b[0m\u001b[1;33m\u001b[0m\u001b[0m\n\u001b[0m\u001b[0;32m      7\u001b[0m \u001b[0mres\u001b[0m \u001b[1;33m=\u001b[0m \u001b[0mres\u001b[0m\u001b[1;33m.\u001b[0m\u001b[0mastype\u001b[0m\u001b[1;33m(\u001b[0m\u001b[0mnp\u001b[0m\u001b[1;33m.\u001b[0m\u001b[0muint8\u001b[0m\u001b[1;33m)\u001b[0m\u001b[1;33m\u001b[0m\u001b[1;33m\u001b[0m\u001b[0m\n\u001b[0;32m      8\u001b[0m \u001b[0mres\u001b[0m \u001b[1;33m=\u001b[0m \u001b[0mImage\u001b[0m\u001b[1;33m.\u001b[0m\u001b[0mfromarray\u001b[0m\u001b[1;33m(\u001b[0m\u001b[0mres\u001b[0m\u001b[1;33m)\u001b[0m\u001b[1;33m\u001b[0m\u001b[1;33m\u001b[0m\u001b[0m\n",
      "\u001b[1;31mTypeError\u001b[0m: unsupported operand type(s) for *: 'Image' and 'int'"
     ]
    }
   ],
   "source": [
    "#res = res.squeeze()\n",
    "#res=tf.make_ndarray(res)\n",
    "#print(res.size)\n",
    "\n",
    "from PIL import Image\n",
    "res = res*255\n",
    "res = res.astype(np.uint8)\n",
    "res = Image.fromarray(res)\n",
    "\n",
    "#imshow(res)\n",
    "res.save(\"VAE_generated_image.jpeg\")"
   ]
  },
  {
   "cell_type": "code",
   "execution_count": 340,
   "id": "e2d51f77",
   "metadata": {},
   "outputs": [
    {
     "name": "stdout",
     "output_type": "stream",
     "text": [
      "(1, 64, 64, 3)\n"
     ]
    },
    {
     "data": {
      "text/plain": [
       "True"
      ]
     },
     "execution_count": 340,
     "metadata": {},
     "output_type": "execute_result"
    },
    {
     "data": {
      "image/png": "[encoded data removed]",
      "text/plain": [
       "<Figure size 432x288 with 1 Axes>"
      ]
     },
     "metadata": {
      "needs_background": "light"
     },
     "output_type": "display_data"
    }
   ],
   "source": [
    "hm = np.uint8(255 * heatmap)\n",
    "hm = np.expand_dims(hm, axis=2)\n",
    "hm = keras.preprocessing.image.array_to_img(hm)\n",
    "print(img_array.shape)\n",
    "hm = hm.resize((img_array.shape[1], img_array.shape[2]))\n",
    "hm = np.asanyarray(hm)\n",
    "imshow(hm)\n",
    "#hm.save(\"heatmap.jpg\")\n",
    "cv2.imwrite('hm.jpeg', hm)"
   ]
  },
  {
   "cell_type": "code",
   "execution_count": 341,
   "id": "e2dd419e",
   "metadata": {},
   "outputs": [],
   "source": [
    "def save_and_display_gradcam(img, heatmap,cam_path=\"superimposed_img.jpg\", alpha=0.4):\n",
    "    #img = keras.preprocessing.image.load_img(img_path)\n",
    "    #img = keras.preprocessing.image.img_to_array(img)\n",
    "\n",
    "    heatmap = np.uint8(255 * heatmap)\n",
    "    #heatmap_1 = np.uint8(255 * heatmap_1)\n",
    "    #hmap = hmap.resize((img.shape[1], img.shape[0]))\n",
    "    jet = cm.get_cmap(\"jet\")\n",
    "    jet_colors = jet(np.arange(256))[:, :3]\n",
    "    jet_heatmap = jet_colors[heatmap]\n",
    "    jet_heatmap = keras.preprocessing.image.array_to_img(jet_heatmap)\n",
    "    jet_heatmap = jet_heatmap.resize((img.shape[1], img.shape[0]))\n",
    "    jet_heatmap = keras.preprocessing.image.img_to_array(jet_heatmap)\n",
    "    print(jet_heatmap.shape)\n",
    "    print(img.shape)\n",
    "    superimposed_img = cv2.addWeighted(jet_heatmap, 0.005, img, 0.995, 0)\n",
    "    superimposed_img = keras.preprocessing.image.array_to_img(superimposed_img)\n",
    "    superimposed_img.save(cam_path)"
   ]
  },
  {
   "cell_type": "code",
   "execution_count": 342,
   "id": "5c2fb1b7",
   "metadata": {},
   "outputs": [
    {
     "name": "stdout",
     "output_type": "stream",
     "text": [
      "(64, 64, 3)\n",
      "(64, 64, 3)\n"
     ]
    }
   ],
   "source": [
    "save_and_display_gradcam(img_array.squeeze(), heatmap)"
   ]
  },
  {
   "cell_type": "code",
   "execution_count": 343,
   "id": "8cfedf0b",
   "metadata": {},
   "outputs": [],
   "source": [
    "heatmap_images = 'opop'"
   ]
  },
  {
   "cell_type": "code",
   "execution_count": 344,
   "id": "29371b92",
   "metadata": {},
   "outputs": [],
   "source": [
    "def save_individual_heatmaps_1(img_array, model, last_conv_layer_name, encoder_out, pred_index=None):\n",
    "  grad_model = tf.keras.models.Model(\n",
    "        [model.inputs], [model.get_layer(last_conv_layer_name).output, model.get_layer(encoder_out).output]\n",
    "    )\n",
    "  no_of_channels = (model.get_layer(encoder_out).output.get_shape())[1]\n",
    "  for i in range(no_of_channels):\n",
    "    with tf.GradientTape(persistent=True) as tape:\n",
    "      last_conv_layer_output, preds = grad_model(img_array)\n",
    "      y = preds[0][i]\n",
    "      if(i==1909):\n",
    "        y = tf.math.multiply(y,tf.constant(1000, dtype=tf.float32))\n",
    "    grads = tape.gradient(y, last_conv_layer_output)\n",
    "    pooled_grads = tf.reduce_mean(grads, axis=(0, 1, 2))\n",
    "    \n",
    "    last_conv_layer_output = last_conv_layer_output[0]\n",
    "    heatmap = tf.matmul(last_conv_layer_output, pooled_grads[..., tf.newaxis])\n",
    "    heatmap = tf.squeeze(heatmap)\n",
    "    heatmap = tf.maximum(heatmap, 0) / tf.math.reduce_max(heatmap)\n",
    "    #if(i==199):\n",
    "      #print(\"heatmap: \"+str(heatmap))\n",
    "      #print(\"mean: \"+str(tf.math.reduce_mean(heatmap)))\n",
    "    #save_and_display_gradcam(img_array.squeeze(), heatmap)\n",
    "    save_and_display_gradcam(img_array.squeeze(), heatmap, cam_path=heatmap_images+\"/heatmap_\"+str(i)+\".jpg\")"
   ]
  },
  {
   "cell_type": "code",
   "execution_count": 345,
   "id": "fc2e594d",
   "metadata": {},
   "outputs": [
    {
     "name": "stdout",
     "output_type": "stream",
     "text": [
      "(64, 64, 3)\n",
      "(64, 64, 3)\n",
      "(64, 64, 3)\n",
      "(64, 64, 3)\n",
      "(64, 64, 3)\n",
      "(64, 64, 3)\n",
      "(64, 64, 3)\n",
      "(64, 64, 3)\n",
      "(64, 64, 3)\n",
      "(64, 64, 3)\n"
     ]
    }
   ],
   "source": [
    "save_individual_heatmaps_1(img_array, model, last_conv_layer_name, encoder_out)"
   ]
  },
  {
   "cell_type": "code",
   "execution_count": null,
   "id": "1219b8de",
   "metadata": {},
   "outputs": [],
   "source": []
  },
  {
   "cell_type": "code",
   "execution_count": null,
   "id": "e4b4ca89",
   "metadata": {},
   "outputs": [],
   "source": []
  },
  {
   "cell_type": "code",
   "execution_count": null,
   "id": "5b3e9816",
   "metadata": {},
   "outputs": [],
   "source": []
  }
 ],
 "metadata": {
  "kernelspec": {
   "display_name": "Python 3",
   "language": "python",
   "name": "python3"
  },
  "language_info": {
   "codemirror_mode": {
    "name": "ipython",
    "version": 3
   },
   "file_extension": ".py",
   "mimetype": "text/x-python",
   "name": "python",
   "nbconvert_exporter": "python",
   "pygments_lexer": "ipython3",
   "version": "3.9.5"
  }
 },
 "nbformat": 4,
 "nbformat_minor": 5
}
